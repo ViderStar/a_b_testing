{
 "cells": [
  {
   "cell_type": "code",
   "execution_count": 1,
   "id": "initial_id",
   "metadata": {
    "collapsed": true,
    "ExecuteTime": {
     "end_time": "2023-12-20T22:03:18.643442800Z",
     "start_time": "2023-12-20T22:03:11.411874600Z"
    }
   },
   "outputs": [],
   "source": [
    "import pandas as pd\n",
    "import matplotlib.pyplot as plt\n",
    "\n",
    "from scipy.stats import ttest_ind, stats"
   ]
  },
  {
   "cell_type": "markdown",
   "source": [
    "# Подготовка данных"
   ],
   "metadata": {
    "collapsed": false
   },
   "id": "994c40dacdb03388"
  },
  {
   "cell_type": "code",
   "execution_count": 2,
   "outputs": [],
   "source": [
    "df = pd.read_csv('analytic_dataset.csv')"
   ],
   "metadata": {
    "collapsed": false,
    "ExecuteTime": {
     "end_time": "2023-12-20T22:03:21.949949900Z",
     "start_time": "2023-12-20T22:03:18.654053400Z"
    }
   },
   "id": "53816916cbecd745"
  },
  {
   "cell_type": "code",
   "execution_count": 3,
   "outputs": [
    {
     "name": "stdout",
     "output_type": "stream",
     "text": [
      "Index(['Unnamed: 0', 'event_name', 'event_time', 'session_num',\n",
      "       'session_device', 'user_id', 'locale', 'country', 'tl'],\n",
      "      dtype='object')\n"
     ]
    }
   ],
   "source": [
    "df.columns"
   ],
   "metadata": {
    "collapsed": false,
    "ExecuteTime": {
     "end_time": "2023-12-20T22:03:21.963918300Z",
     "start_time": "2023-12-20T22:03:21.949949900Z"
    }
   },
   "id": "130203f9b66cb240"
  },
  {
   "cell_type": "code",
   "execution_count": 17,
   "outputs": [
    {
     "data": {
      "text/plain": "         Unnamed: 0         event_name                 event_time  \\\n0                 0     content_opened  2023-10-28 11:13:14+00:00   \n1                 1   dashboard_showed  2023-10-18 14:31:31+00:00   \n2                 2   dashboard_showed  2023-10-14 18:20:25+00:00   \n3                 3   dashboard_showed  2023-10-06 10:57:40+00:00   \n4                 4     content_opened  2023-10-23 15:54:27+00:00   \n...             ...                ...                        ...   \n2145230     2145230   dashboard_showed  2023-10-06 15:48:17+00:00   \n2145231     2145231     content_opened  2023-10-16 08:47:39+00:00   \n2145232     2145232  warming_up_showed  2023-10-29 11:04:58+00:00   \n2145233     2145233    onb_page_showed  2023-10-27 19:06:53+00:00   \n2145234     2145234     content_opened  2023-10-11 13:55:54+00:00   \n\n         session_num  session_device   user_id locale country  tl  \n0                  1               6  23091583     ru      UA   4  \n1                  5               5  22757061     ru      CH   4  \n2                  7               6  22794972     ru      UA   4  \n3                  1               5  22659388     en      EG   4  \n4                  2               5  22983052     en      GB   4  \n...              ...             ...       ...    ...     ...  ..  \n2145230            1               6  22665721     ru      RU   1  \n2145231            1               2  22846807     ru      RU   5  \n2145232            1               6  23114773     ru      UA   4  \n2145233            2               5  22938763     en      GB   4  \n2145234            6               6  22718757     ru      AT   4  \n\n[2145235 rows x 9 columns]",
      "text/html": "<div>\n<style scoped>\n    .dataframe tbody tr th:only-of-type {\n        vertical-align: middle;\n    }\n\n    .dataframe tbody tr th {\n        vertical-align: top;\n    }\n\n    .dataframe thead th {\n        text-align: right;\n    }\n</style>\n<table border=\"1\" class=\"dataframe\">\n  <thead>\n    <tr style=\"text-align: right;\">\n      <th></th>\n      <th>Unnamed: 0</th>\n      <th>event_name</th>\n      <th>event_time</th>\n      <th>session_num</th>\n      <th>session_device</th>\n      <th>user_id</th>\n      <th>locale</th>\n      <th>country</th>\n      <th>tl</th>\n    </tr>\n  </thead>\n  <tbody>\n    <tr>\n      <th>0</th>\n      <td>0</td>\n      <td>content_opened</td>\n      <td>2023-10-28 11:13:14+00:00</td>\n      <td>1</td>\n      <td>6</td>\n      <td>23091583</td>\n      <td>ru</td>\n      <td>UA</td>\n      <td>4</td>\n    </tr>\n    <tr>\n      <th>1</th>\n      <td>1</td>\n      <td>dashboard_showed</td>\n      <td>2023-10-18 14:31:31+00:00</td>\n      <td>5</td>\n      <td>5</td>\n      <td>22757061</td>\n      <td>ru</td>\n      <td>CH</td>\n      <td>4</td>\n    </tr>\n    <tr>\n      <th>2</th>\n      <td>2</td>\n      <td>dashboard_showed</td>\n      <td>2023-10-14 18:20:25+00:00</td>\n      <td>7</td>\n      <td>6</td>\n      <td>22794972</td>\n      <td>ru</td>\n      <td>UA</td>\n      <td>4</td>\n    </tr>\n    <tr>\n      <th>3</th>\n      <td>3</td>\n      <td>dashboard_showed</td>\n      <td>2023-10-06 10:57:40+00:00</td>\n      <td>1</td>\n      <td>5</td>\n      <td>22659388</td>\n      <td>en</td>\n      <td>EG</td>\n      <td>4</td>\n    </tr>\n    <tr>\n      <th>4</th>\n      <td>4</td>\n      <td>content_opened</td>\n      <td>2023-10-23 15:54:27+00:00</td>\n      <td>2</td>\n      <td>5</td>\n      <td>22983052</td>\n      <td>en</td>\n      <td>GB</td>\n      <td>4</td>\n    </tr>\n    <tr>\n      <th>...</th>\n      <td>...</td>\n      <td>...</td>\n      <td>...</td>\n      <td>...</td>\n      <td>...</td>\n      <td>...</td>\n      <td>...</td>\n      <td>...</td>\n      <td>...</td>\n    </tr>\n    <tr>\n      <th>2145230</th>\n      <td>2145230</td>\n      <td>dashboard_showed</td>\n      <td>2023-10-06 15:48:17+00:00</td>\n      <td>1</td>\n      <td>6</td>\n      <td>22665721</td>\n      <td>ru</td>\n      <td>RU</td>\n      <td>1</td>\n    </tr>\n    <tr>\n      <th>2145231</th>\n      <td>2145231</td>\n      <td>content_opened</td>\n      <td>2023-10-16 08:47:39+00:00</td>\n      <td>1</td>\n      <td>2</td>\n      <td>22846807</td>\n      <td>ru</td>\n      <td>RU</td>\n      <td>5</td>\n    </tr>\n    <tr>\n      <th>2145232</th>\n      <td>2145232</td>\n      <td>warming_up_showed</td>\n      <td>2023-10-29 11:04:58+00:00</td>\n      <td>1</td>\n      <td>6</td>\n      <td>23114773</td>\n      <td>ru</td>\n      <td>UA</td>\n      <td>4</td>\n    </tr>\n    <tr>\n      <th>2145233</th>\n      <td>2145233</td>\n      <td>onb_page_showed</td>\n      <td>2023-10-27 19:06:53+00:00</td>\n      <td>2</td>\n      <td>5</td>\n      <td>22938763</td>\n      <td>en</td>\n      <td>GB</td>\n      <td>4</td>\n    </tr>\n    <tr>\n      <th>2145234</th>\n      <td>2145234</td>\n      <td>content_opened</td>\n      <td>2023-10-11 13:55:54+00:00</td>\n      <td>6</td>\n      <td>6</td>\n      <td>22718757</td>\n      <td>ru</td>\n      <td>AT</td>\n      <td>4</td>\n    </tr>\n  </tbody>\n</table>\n<p>2145235 rows × 9 columns</p>\n</div>"
     },
     "execution_count": 17,
     "metadata": {},
     "output_type": "execute_result"
    }
   ],
   "source": [
    "df"
   ],
   "metadata": {
    "collapsed": false,
    "ExecuteTime": {
     "end_time": "2023-12-20T22:13:57.268235900Z",
     "start_time": "2023-12-20T22:13:57.190287600Z"
    }
   },
   "id": "2b69573c232c82a3"
  },
  {
   "cell_type": "code",
   "execution_count": 18,
   "outputs": [
    {
     "name": "stdout",
     "output_type": "stream",
     "text": [
      "<class 'pandas.core.frame.DataFrame'>\n",
      "RangeIndex: 2145235 entries, 0 to 2145234\n",
      "Data columns (total 9 columns):\n",
      " #   Column          Dtype \n",
      "---  ------          ----- \n",
      " 0   Unnamed: 0      int64 \n",
      " 1   event_name      object\n",
      " 2   event_time      object\n",
      " 3   session_num     int64 \n",
      " 4   session_device  int64 \n",
      " 5   user_id         int64 \n",
      " 6   locale          object\n",
      " 7   country         object\n",
      " 8   tl              int64 \n",
      "dtypes: int64(5), object(4)\n",
      "memory usage: 147.3+ MB\n"
     ]
    }
   ],
   "source": [
    "df.info()"
   ],
   "metadata": {
    "collapsed": false,
    "ExecuteTime": {
     "end_time": "2023-12-20T22:14:11.589095200Z",
     "start_time": "2023-12-20T22:14:11.573070300Z"
    }
   },
   "id": "c8698c2c80500565"
  },
  {
   "cell_type": "code",
   "execution_count": 20,
   "outputs": [
    {
     "data": {
      "text/plain": "(2145235, 9)"
     },
     "execution_count": 20,
     "metadata": {},
     "output_type": "execute_result"
    }
   ],
   "source": [
    "df.shape"
   ],
   "metadata": {
    "collapsed": false,
    "ExecuteTime": {
     "end_time": "2023-12-20T22:14:19.337733500Z",
     "start_time": "2023-12-20T22:14:19.321950500Z"
    }
   },
   "id": "8d155746d8fbe087"
  },
  {
   "cell_type": "code",
   "execution_count": 21,
   "outputs": [
    {
     "data": {
      "text/plain": "         Unnamed: 0   session_num  session_device       user_id            tl\ncount  2.145235e+06  2.145235e+06    2.145235e+06  2.145235e+06  2.145235e+06\nmean   1.072617e+06  4.613987e+00    5.297720e+00  2.282790e+07  3.490790e+00\nstd    6.192761e+05  7.014365e+00    1.167823e+00  1.974801e+05  1.467670e+00\nmin    0.000000e+00  0.000000e+00    0.000000e+00  1.211843e+06  0.000000e+00\n25%    5.363085e+05  1.000000e+00    5.000000e+00  2.267954e+07  2.000000e+00\n50%    1.072617e+06  2.000000e+00    6.000000e+00  2.281925e+07  4.000000e+00\n75%    1.608926e+06  5.000000e+00    6.000000e+00  2.296697e+07  4.000000e+00\nmax    2.145234e+06  1.930000e+02    8.000000e+00  2.317801e+07  5.000000e+00",
      "text/html": "<div>\n<style scoped>\n    .dataframe tbody tr th:only-of-type {\n        vertical-align: middle;\n    }\n\n    .dataframe tbody tr th {\n        vertical-align: top;\n    }\n\n    .dataframe thead th {\n        text-align: right;\n    }\n</style>\n<table border=\"1\" class=\"dataframe\">\n  <thead>\n    <tr style=\"text-align: right;\">\n      <th></th>\n      <th>Unnamed: 0</th>\n      <th>session_num</th>\n      <th>session_device</th>\n      <th>user_id</th>\n      <th>tl</th>\n    </tr>\n  </thead>\n  <tbody>\n    <tr>\n      <th>count</th>\n      <td>2.145235e+06</td>\n      <td>2.145235e+06</td>\n      <td>2.145235e+06</td>\n      <td>2.145235e+06</td>\n      <td>2.145235e+06</td>\n    </tr>\n    <tr>\n      <th>mean</th>\n      <td>1.072617e+06</td>\n      <td>4.613987e+00</td>\n      <td>5.297720e+00</td>\n      <td>2.282790e+07</td>\n      <td>3.490790e+00</td>\n    </tr>\n    <tr>\n      <th>std</th>\n      <td>6.192761e+05</td>\n      <td>7.014365e+00</td>\n      <td>1.167823e+00</td>\n      <td>1.974801e+05</td>\n      <td>1.467670e+00</td>\n    </tr>\n    <tr>\n      <th>min</th>\n      <td>0.000000e+00</td>\n      <td>0.000000e+00</td>\n      <td>0.000000e+00</td>\n      <td>1.211843e+06</td>\n      <td>0.000000e+00</td>\n    </tr>\n    <tr>\n      <th>25%</th>\n      <td>5.363085e+05</td>\n      <td>1.000000e+00</td>\n      <td>5.000000e+00</td>\n      <td>2.267954e+07</td>\n      <td>2.000000e+00</td>\n    </tr>\n    <tr>\n      <th>50%</th>\n      <td>1.072617e+06</td>\n      <td>2.000000e+00</td>\n      <td>6.000000e+00</td>\n      <td>2.281925e+07</td>\n      <td>4.000000e+00</td>\n    </tr>\n    <tr>\n      <th>75%</th>\n      <td>1.608926e+06</td>\n      <td>5.000000e+00</td>\n      <td>6.000000e+00</td>\n      <td>2.296697e+07</td>\n      <td>4.000000e+00</td>\n    </tr>\n    <tr>\n      <th>max</th>\n      <td>2.145234e+06</td>\n      <td>1.930000e+02</td>\n      <td>8.000000e+00</td>\n      <td>2.317801e+07</td>\n      <td>5.000000e+00</td>\n    </tr>\n  </tbody>\n</table>\n</div>"
     },
     "execution_count": 21,
     "metadata": {},
     "output_type": "execute_result"
    }
   ],
   "source": [
    "df.describe()"
   ],
   "metadata": {
    "collapsed": false,
    "ExecuteTime": {
     "end_time": "2023-12-20T22:14:25.140064Z",
     "start_time": "2023-12-20T22:14:24.829491800Z"
    }
   },
   "id": "bc6d1e47b6772d91"
  },
  {
   "cell_type": "code",
   "execution_count": 23,
   "outputs": [
    {
     "data": {
      "text/plain": "Unnamed: 0  event_name         event_time                 session_num  session_device  user_id   locale  country  tl\n0           content_opened     2023-10-28 11:13:14+00:00  1            6               23091583  ru      UA       4     1\n1430148     warming_up_showed  2023-10-15 13:33:16+00:00  1            6               22828826  ru      KZ       1     1\n1430146     content_opened     2023-10-28 12:12:38+00:00  1            6               23087587  ru      US       4     1\n1430145     content_opened     2023-10-12 02:36:10+00:00  1            5               22764850  en      US       4     1\n1430144     content_opened     2023-10-23 19:42:20+00:00  22           5               22708024  ru      RU       1     1\n                                                                                                                       ..\n715060      dashboard_showed   2023-10-03 07:34:21+00:00  3            6               22582422  ru      UA       4     1\n715059      dashboard_showed   2023-10-29 11:57:41+00:00  1            5               23116823  en      KE       1     1\n715058      start_session      2023-10-25 05:13:58+00:00  13           6               22734464  ru      KZ       4     1\n715057      content_opened     2023-10-31 02:24:06+00:00  2            6               22829998  ru      RU       4     1\n2145234     content_opened     2023-10-11 13:55:54+00:00  6            6               22718757  ru      AT       4     1\nName: count, Length: 2144419, dtype: int64"
     },
     "execution_count": 23,
     "metadata": {},
     "output_type": "execute_result"
    }
   ],
   "source": [
    "df.value_counts()"
   ],
   "metadata": {
    "collapsed": false,
    "ExecuteTime": {
     "end_time": "2023-12-20T22:14:42.910859200Z",
     "start_time": "2023-12-20T22:14:37.770442900Z"
    }
   },
   "id": "ce9b576a9b57c637"
  },
  {
   "cell_type": "code",
   "execution_count": 24,
   "outputs": [
    {
     "data": {
      "text/plain": "Unnamed: 0        2145235\nevent_name              7\nevent_time        1151946\nsession_num           124\nsession_device          9\nuser_id            100000\nlocale                  9\ncountry               203\ntl                      6\ndtype: int64"
     },
     "execution_count": 24,
     "metadata": {},
     "output_type": "execute_result"
    }
   ],
   "source": [
    "df.nunique()"
   ],
   "metadata": {
    "collapsed": false,
    "ExecuteTime": {
     "end_time": "2023-12-20T22:14:58.688846800Z",
     "start_time": "2023-12-20T22:14:57.192791300Z"
    }
   },
   "id": "a6bd964d8a3baccb"
  },
  {
   "cell_type": "code",
   "execution_count": 4,
   "outputs": [],
   "source": [
    "# Выделение тестовой когорты пользователей\n",
    "test_cohort = df[\n",
    "    ((df['locale'] == 'en') & (df['country'].isin(['US', 'NZ', 'AU', 'GB', 'IN', 'PH'])) |\n",
    "     (df['locale'] == 'ru') & (df['country'] == 'RU')) &\n",
    "    (df['tl'].between(4, 5)) &\n",
    "    (pd.to_datetime(df['event_time']).between('2023-10-05 13:25:00', '2023-10-23 10:00:00')) &\n",
    "    (df.index % 4 >= 2)\n",
    "    ]\n"
   ],
   "metadata": {
    "collapsed": false,
    "ExecuteTime": {
     "end_time": "2023-12-20T22:03:31.333481800Z",
     "start_time": "2023-12-20T22:03:21.963918300Z"
    }
   },
   "id": "17ea6dc2189addc4"
  },
  {
   "cell_type": "markdown",
   "source": [
    "# А/B-тест\n"
   ],
   "metadata": {
    "collapsed": false
   },
   "id": "26818a207c585f4"
  },
  {
   "cell_type": "code",
   "execution_count": 5,
   "outputs": [
    {
     "name": "stdout",
     "output_type": "stream",
     "text": [
      "Конверсия в покупку для старого дизайна: 0.001226904638930169\n",
      "Конверсия в покупку для нового дизайна: 0.001176561624512757\n"
     ]
    }
   ],
   "source": [
    "\n",
    "old_design = df[df.index % 4 < 2]\n",
    "new_design = df[df.index % 4 >= 2]\n",
    "\n",
    "old_conversion_rate = (old_design['event_name'] == 'logic_purchase').mean()\n",
    "new_conversion_rate = (new_design['event_name'] == 'logic_purchase').mean()\n",
    "\n",
    "print(f'Конверсия в покупку для старого дизайна: {old_conversion_rate}')\n",
    "print(f'Конверсия в покупку для нового дизайна: {new_conversion_rate}')\n"
   ],
   "metadata": {
    "collapsed": false,
    "ExecuteTime": {
     "end_time": "2023-12-20T22:03:31.636373900Z",
     "start_time": "2023-12-20T22:03:31.340037200Z"
    }
   },
   "id": "75664afac92a6279"
  },
  {
   "cell_type": "code",
   "execution_count": 6,
   "outputs": [
    {
     "data": {
      "text/plain": "<Figure size 640x480 with 1 Axes>",
      "image/png": "[encoded data removed]"
     },
     "metadata": {},
     "output_type": "display_data"
    }
   ],
   "source": [
    "plt.bar(['Старый дизайн', 'Новый дизайн'], [old_conversion_rate, new_conversion_rate])\n",
    "plt.ylabel('Конверсия в покупку')\n",
    "plt.show()\n"
   ],
   "metadata": {
    "collapsed": false,
    "ExecuteTime": {
     "end_time": "2023-12-20T22:03:31.810303700Z",
     "start_time": "2023-12-20T22:03:31.632708400Z"
    }
   },
   "id": "98380a717d01e57a"
  },
  {
   "cell_type": "code",
   "execution_count": 7,
   "outputs": [],
   "source": [
    "def calculate_funnel_conversion(group):\n",
    "    registration_count = group[group['event_name'] == 'start_session']['user_id'].nunique()\n",
    "    onboarding_count = group[group['event_name'] == 'onb_page_showed']['user_id'].nunique()\n",
    "    warming_up_count = group[group['event_name'] == 'warming_up_showed']['user_id'].nunique()\n",
    "    dashboard_count = group[group['event_name'] == 'dashboard_showed']['user_id'].nunique()\n",
    "    content_count = group[group['event_name'] == 'content_opened']['user_id'].nunique()\n",
    "    purchase_count = group[group['event_name'] == 'logic_purchase']['user_id'].nunique()\n",
    "\n",
    "    conversion_rates = {\n",
    "        'Registration': onboarding_count / registration_count,\n",
    "        'Onboarding': warming_up_count / onboarding_count,\n",
    "        'Warming Up': dashboard_count / warming_up_count,\n",
    "        'Dashboard': content_count / dashboard_count,\n",
    "        'Content': purchase_count / content_count,\n",
    "        'Purchase': purchase_count / registration_count\n",
    "    }\n",
    "\n",
    "    return conversion_rates\n"
   ],
   "metadata": {
    "collapsed": false,
    "ExecuteTime": {
     "end_time": "2023-12-20T22:03:31.823189900Z",
     "start_time": "2023-12-20T22:03:31.813297600Z"
    }
   },
   "id": "e6898216f854ccf"
  },
  {
   "cell_type": "code",
   "execution_count": 8,
   "outputs": [],
   "source": [
    "old_funnel_conversion = calculate_funnel_conversion(old_design)\n",
    "new_funnel_conversion = calculate_funnel_conversion(new_design)\n"
   ],
   "metadata": {
    "collapsed": false,
    "ExecuteTime": {
     "end_time": "2023-12-20T22:03:32.873101700Z",
     "start_time": "2023-12-20T22:03:31.823189900Z"
    }
   },
   "id": "86830f183bf85e2"
  },
  {
   "cell_type": "code",
   "execution_count": 9,
   "outputs": [
    {
     "name": "stdout",
     "output_type": "stream",
     "text": [
      "Конверсия воронки для старого дизайна:\n",
      "Registration: 0.3034891588002191\n",
      "Onboarding: 0.5806263269639066\n",
      "Warming Up: 1.3859584971203949\n",
      "Dashboard: 0.9230261856078095\n",
      "Content: 0.06788623695869658\n",
      "Purchase: 0.015303328071136312\n",
      "\n",
      "Конверсия воронки для нового дизайна:\n",
      "Registration: 0.30412537525420447\n",
      "Onboarding: 0.5795786233614605\n",
      "Warming Up: 1.3917223697463603\n",
      "Dashboard: 0.9182183038357786\n",
      "Content: 0.06592146746918888\n",
      "Purchase: 0.014848768520610737\n"
     ]
    }
   ],
   "source": [
    "print('Конверсия воронки для старого дизайна:')\n",
    "for step, conversion_rate in old_funnel_conversion.items():\n",
    "    print(f'{step}: {conversion_rate}')\n",
    "\n",
    "print('\\nКонверсия воронки для нового дизайна:')\n",
    "for step, conversion_rate in new_funnel_conversion.items():\n",
    "    print(f'{step}: {conversion_rate}')\n"
   ],
   "metadata": {
    "collapsed": false,
    "ExecuteTime": {
     "end_time": "2023-12-20T22:03:32.884652500Z",
     "start_time": "2023-12-20T22:03:32.876163300Z"
    }
   },
   "id": "7cd5f2670e7f8649"
  },
  {
   "cell_type": "code",
   "execution_count": 10,
   "outputs": [
    {
     "data": {
      "text/plain": "<Figure size 640x480 with 1 Axes>",
      "image/png": "[encoded data removed]"
     },
     "metadata": {},
     "output_type": "display_data"
    },
    {
     "data": {
      "text/plain": "<Figure size 640x480 with 1 Axes>",
      "image/png": "[encoded data removed]"
     },
     "metadata": {},
     "output_type": "display_data"
    }
   ],
   "source": [
    "def plot_funnel_conversion(conversion_rates, title):\n",
    "    steps = list(conversion_rates.keys())\n",
    "    rates = list(conversion_rates.values())\n",
    "\n",
    "    plt.bar(steps, rates)\n",
    "    plt.title(title)\n",
    "    plt.xlabel('Этапы воронки')\n",
    "    plt.ylabel('Конверсия')\n",
    "    plt.show()\n",
    "\n",
    "\n",
    "plot_funnel_conversion(old_funnel_conversion, 'Конверсия воронки для старого дизайна')\n",
    "plot_funnel_conversion(new_funnel_conversion, 'Конверсия воронки для нового дизайна')\n"
   ],
   "metadata": {
    "collapsed": false,
    "ExecuteTime": {
     "end_time": "2023-12-20T22:03:33.250848300Z",
     "start_time": "2023-12-20T22:03:32.884652500Z"
    }
   },
   "id": "e871b5583afb609c"
  },
  {
   "cell_type": "code",
   "execution_count": 15,
   "outputs": [
    {
     "name": "stdout",
     "output_type": "stream",
     "text": [
      "Общее количество пользователей со старым дизайном: 68720\n",
      "Общее количество пользователей с новым дизайном: 68628\n",
      "Общее количество пользователей в тестовой когорте: 9057\n"
     ]
    }
   ],
   "source": [
    "old_users = old_design['user_id'].nunique()\n",
    "new_users = new_design['user_id'].nunique()\n",
    "\n",
    "print(f'Общее количество пользователей со старым дизайном: {old_users}')\n",
    "print(f'Общее количество пользователей с новым дизайном: {new_users}')\n",
    "total_users = test_cohort['user_id'].nunique()\n",
    "\n",
    "print(f'Общее количество пользователей в тестовой когорте: {total_users}')\n"
   ],
   "metadata": {
    "collapsed": false,
    "ExecuteTime": {
     "end_time": "2023-12-20T22:09:44.851882700Z",
     "start_time": "2023-12-20T22:09:44.767227200Z"
    }
   },
   "id": "80bdf4108da09d4"
  },
  {
   "cell_type": "code",
   "execution_count": 16,
   "outputs": [
    {
     "name": "stdout",
     "output_type": "stream",
     "text": [
      "Общее количество пользователей со старым дизайном: 68720\n",
      "Общее количество пользователей с новым дизайном: 68628\n",
      "Среднее число событий на пользователя со старым дизайном: 15.608527357392317\n",
      "Среднее число событий на пользователя с новым дизайном: 15.629436964504285\n",
      "t-статистика: -0.05643155365659611\n",
      "p-value: 0.9549981029013935\n"
     ]
    }
   ],
   "source": [
    "old_events_per_user = old_design.groupby('user_id')['event_name'].count().mean()\n",
    "new_events_per_user = new_design.groupby('user_id')['event_name'].count().mean()\n",
    "\n",
    "print(f'Среднее число событий на пользователя со старым дизайном: {old_events_per_user}')\n",
    "print(f'Среднее число событий на пользователя с новым дизайном: {new_events_per_user}')\n",
    "\n",
    "t_stat, p_value = ttest_ind(old_design.groupby('user_id')['event_name'].count(), new_design.groupby('user_id')['event_name'].count(), equal_var=False)\n",
    "\n",
    "print(f\"t-статистика: {t_stat}\")\n",
    "print(f\"p-value: {p_value}\")"
   ],
   "metadata": {
    "collapsed": false,
    "ExecuteTime": {
     "end_time": "2023-12-20T22:09:46.552385300Z",
     "start_time": "2023-12-20T22:09:46.223790500Z"
    }
   },
   "id": "e0414005c29a169b"
  },
  {
   "cell_type": "markdown",
   "source": [
    "# Результаты"
   ],
   "metadata": {
    "collapsed": false
   },
   "id": "d4e7be4f2def6223"
  },
  {
   "cell_type": "markdown",
   "source": [
    "Исходя из предоставленных результатов, можно сделать следующие выводы:\n",
    "\n",
    "1. Общее количество пользователей со старым дизайном составляет 68 720, а с новым дизайном - 68 628. Разница минимальна.\n",
    "\n",
    "2. Среднее число событий на пользователя практически одинаково между двумя группами дизайна. Пользователи со старым дизайном имеют среднее значение в 15,61 событий на пользователя, а пользователи с новым дизайном - в 15,63 событий на пользователя.\n",
    "\n",
    "3. Значение t-статистики составляет -0,0564, а p-value равно 0,955. Поскольку p-value больше обычно используемого уровня значимости 0,05, мы не отвергаем нулевую гипотезу. Это говорит о том, что нет статистически значимой разницы в среднем числе событий на пользователя между группами со старым и новым дизайном.\n",
    "\n",
    "4. Анализируя воронку конверсии, мы видим, что конверсионные показатели на каждом этапе примерно одинаковы для старого и нового дизайна. Нет значительной разницы в конверсии на этапах регистрации, ввода в эксплуатацию, прогрева, панели управления, контента и покупки.\n",
    "\n",
    "5. Конверсия в покупку для обоих дизайнов низкая: 0,12% для старого дизайна и 0,12% для нового дизайна. Нет значимой разницы в конверсии в покупку между двумя группами дизайна.\n",
    "\n",
    "В заключение, исходя из проведенного анализа, можно сказать, что нет значимой разницы в уровне вовлеченности пользователей или конверсионных показателях между старым и новым дизайнами. Оба дизайна показывают схожие результаты в отношении поведения пользователей и показателей конверсии."
   ],
   "metadata": {
    "collapsed": false
   },
   "id": "bb7d2812c1feea3"
  },
  {
   "cell_type": "code",
   "execution_count": null,
   "outputs": [],
   "source": [],
   "metadata": {
    "collapsed": false
   },
   "id": "2a1729fb321f8218"
  }
 ],
 "metadata": {
  "kernelspec": {
   "display_name": "Python 3",
   "language": "python",
   "name": "python3"
  },
  "language_info": {
   "codemirror_mode": {
    "name": "ipython",
    "version": 2
   },
   "file_extension": ".py",
   "mimetype": "text/x-python",
   "name": "python",
   "nbconvert_exporter": "python",
   "pygments_lexer": "ipython2",
   "version": "2.7.6"
  }
 },
 "nbformat": 4,
 "nbformat_minor": 5
}
